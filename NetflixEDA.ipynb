{
 "cells": [
  {
   "cell_type": "markdown",
   "id": "a1cbaf2a",
   "metadata": {},
   "source": [
    "# Exploring the Netflix Dataset"
   ]
  },
  {
   "cell_type": "code",
   "execution_count": 1,
   "id": "5a1ddcd6",
   "metadata": {},
   "outputs": [],
   "source": [
    "import pandas as pd\n",
    "import numpy as np\n",
    "import datetime as dt\n",
    "import random\n",
    "\n",
    "import matplotlib.pyplot as plt\n",
    "from matplotlib_venn import venn2\n",
    "\n",
    "from kneed import KneeLocator\n",
    "from sklearn.cluster import KMeans\n",
    "\n",
    "import warnings\n",
    "warnings.filterwarnings(\"ignore\")"
   ]
  },
  {
   "cell_type": "markdown",
   "id": "eba080c2",
   "metadata": {},
   "source": [
    "## Load Data"
   ]
  },
  {
   "cell_type": "code",
   "execution_count": 2,
   "id": "cf832935",
   "metadata": {},
   "outputs": [
    {
     "data": {
      "text/html": [
       "<div>\n",
       "<style scoped>\n",
       "    .dataframe tbody tr th:only-of-type {\n",
       "        vertical-align: middle;\n",
       "    }\n",
       "\n",
       "    .dataframe tbody tr th {\n",
       "        vertical-align: top;\n",
       "    }\n",
       "\n",
       "    .dataframe thead th {\n",
       "        text-align: right;\n",
       "    }\n",
       "</style>\n",
       "<table border=\"1\" class=\"dataframe\">\n",
       "  <thead>\n",
       "    <tr style=\"text-align: right;\">\n",
       "      <th></th>\n",
       "      <th>show_id</th>\n",
       "      <th>type</th>\n",
       "      <th>title</th>\n",
       "      <th>director</th>\n",
       "      <th>cast</th>\n",
       "      <th>country</th>\n",
       "      <th>date_added</th>\n",
       "      <th>release_year</th>\n",
       "      <th>rating</th>\n",
       "      <th>duration</th>\n",
       "      <th>listed_in</th>\n",
       "      <th>description</th>\n",
       "    </tr>\n",
       "  </thead>\n",
       "  <tbody>\n",
       "    <tr>\n",
       "      <th>0</th>\n",
       "      <td>s1</td>\n",
       "      <td>Movie</td>\n",
       "      <td>Dick Johnson Is Dead</td>\n",
       "      <td>Kirsten Johnson</td>\n",
       "      <td>NaN</td>\n",
       "      <td>United States</td>\n",
       "      <td>September 25, 2021</td>\n",
       "      <td>2020</td>\n",
       "      <td>PG-13</td>\n",
       "      <td>90 min</td>\n",
       "      <td>Documentaries</td>\n",
       "      <td>As her father nears the end of his life, filmm...</td>\n",
       "    </tr>\n",
       "    <tr>\n",
       "      <th>1</th>\n",
       "      <td>s2</td>\n",
       "      <td>TV Show</td>\n",
       "      <td>Blood &amp; Water</td>\n",
       "      <td>NaN</td>\n",
       "      <td>Ama Qamata, Khosi Ngema, Gail Mabalane, Thaban...</td>\n",
       "      <td>South Africa</td>\n",
       "      <td>September 24, 2021</td>\n",
       "      <td>2021</td>\n",
       "      <td>TV-MA</td>\n",
       "      <td>2 Seasons</td>\n",
       "      <td>International TV Shows, TV Dramas, TV Mysteries</td>\n",
       "      <td>After crossing paths at a party, a Cape Town t...</td>\n",
       "    </tr>\n",
       "    <tr>\n",
       "      <th>2</th>\n",
       "      <td>s3</td>\n",
       "      <td>TV Show</td>\n",
       "      <td>Ganglands</td>\n",
       "      <td>Julien Leclercq</td>\n",
       "      <td>Sami Bouajila, Tracy Gotoas, Samuel Jouy, Nabi...</td>\n",
       "      <td>NaN</td>\n",
       "      <td>September 24, 2021</td>\n",
       "      <td>2021</td>\n",
       "      <td>TV-MA</td>\n",
       "      <td>1 Season</td>\n",
       "      <td>Crime TV Shows, International TV Shows, TV Act...</td>\n",
       "      <td>To protect his family from a powerful drug lor...</td>\n",
       "    </tr>\n",
       "    <tr>\n",
       "      <th>3</th>\n",
       "      <td>s4</td>\n",
       "      <td>TV Show</td>\n",
       "      <td>Jailbirds New Orleans</td>\n",
       "      <td>NaN</td>\n",
       "      <td>NaN</td>\n",
       "      <td>NaN</td>\n",
       "      <td>September 24, 2021</td>\n",
       "      <td>2021</td>\n",
       "      <td>TV-MA</td>\n",
       "      <td>1 Season</td>\n",
       "      <td>Docuseries, Reality TV</td>\n",
       "      <td>Feuds, flirtations and toilet talk go down amo...</td>\n",
       "    </tr>\n",
       "    <tr>\n",
       "      <th>4</th>\n",
       "      <td>s5</td>\n",
       "      <td>TV Show</td>\n",
       "      <td>Kota Factory</td>\n",
       "      <td>NaN</td>\n",
       "      <td>Mayur More, Jitendra Kumar, Ranjan Raj, Alam K...</td>\n",
       "      <td>India</td>\n",
       "      <td>September 24, 2021</td>\n",
       "      <td>2021</td>\n",
       "      <td>TV-MA</td>\n",
       "      <td>2 Seasons</td>\n",
       "      <td>International TV Shows, Romantic TV Shows, TV ...</td>\n",
       "      <td>In a city of coaching centers known to train I...</td>\n",
       "    </tr>\n",
       "  </tbody>\n",
       "</table>\n",
       "</div>"
      ],
      "text/plain": [
       "  show_id     type                  title         director  \\\n",
       "0      s1    Movie   Dick Johnson Is Dead  Kirsten Johnson   \n",
       "1      s2  TV Show          Blood & Water              NaN   \n",
       "2      s3  TV Show              Ganglands  Julien Leclercq   \n",
       "3      s4  TV Show  Jailbirds New Orleans              NaN   \n",
       "4      s5  TV Show           Kota Factory              NaN   \n",
       "\n",
       "                                                cast        country  \\\n",
       "0                                                NaN  United States   \n",
       "1  Ama Qamata, Khosi Ngema, Gail Mabalane, Thaban...   South Africa   \n",
       "2  Sami Bouajila, Tracy Gotoas, Samuel Jouy, Nabi...            NaN   \n",
       "3                                                NaN            NaN   \n",
       "4  Mayur More, Jitendra Kumar, Ranjan Raj, Alam K...          India   \n",
       "\n",
       "           date_added  release_year rating   duration  \\\n",
       "0  September 25, 2021          2020  PG-13     90 min   \n",
       "1  September 24, 2021          2021  TV-MA  2 Seasons   \n",
       "2  September 24, 2021          2021  TV-MA   1 Season   \n",
       "3  September 24, 2021          2021  TV-MA   1 Season   \n",
       "4  September 24, 2021          2021  TV-MA  2 Seasons   \n",
       "\n",
       "                                           listed_in  \\\n",
       "0                                      Documentaries   \n",
       "1    International TV Shows, TV Dramas, TV Mysteries   \n",
       "2  Crime TV Shows, International TV Shows, TV Act...   \n",
       "3                             Docuseries, Reality TV   \n",
       "4  International TV Shows, Romantic TV Shows, TV ...   \n",
       "\n",
       "                                         description  \n",
       "0  As her father nears the end of his life, filmm...  \n",
       "1  After crossing paths at a party, a Cape Town t...  \n",
       "2  To protect his family from a powerful drug lor...  \n",
       "3  Feuds, flirtations and toilet talk go down amo...  \n",
       "4  In a city of coaching centers known to train I...  "
      ]
     },
     "execution_count": 2,
     "metadata": {},
     "output_type": "execute_result"
    }
   ],
   "source": [
    "df = pd.read_csv(\"netflix.csv\")\n",
    "df.head()"
   ]
  },
  {
   "cell_type": "code",
   "execution_count": 3,
   "id": "8beba520",
   "metadata": {},
   "outputs": [
    {
     "name": "stdout",
     "output_type": "stream",
     "text": [
      "<class 'pandas.core.frame.DataFrame'>\n",
      "RangeIndex: 8807 entries, 0 to 8806\n",
      "Data columns (total 12 columns):\n",
      " #   Column        Non-Null Count  Dtype \n",
      "---  ------        --------------  ----- \n",
      " 0   show_id       8807 non-null   object\n",
      " 1   type          8807 non-null   object\n",
      " 2   title         8807 non-null   object\n",
      " 3   director      6173 non-null   object\n",
      " 4   cast          7982 non-null   object\n",
      " 5   country       7976 non-null   object\n",
      " 6   date_added    8797 non-null   object\n",
      " 7   release_year  8807 non-null   int64 \n",
      " 8   rating        8803 non-null   object\n",
      " 9   duration      8804 non-null   object\n",
      " 10  listed_in     8807 non-null   object\n",
      " 11  description   8807 non-null   object\n",
      "dtypes: int64(1), object(11)\n",
      "memory usage: 825.8+ KB\n"
     ]
    }
   ],
   "source": [
    "df.info()"
   ]
  },
  {
   "cell_type": "markdown",
   "id": "7d4d4878",
   "metadata": {},
   "source": [
    "### Handling null data"
   ]
  },
  {
   "cell_type": "markdown",
   "id": "5a859b11",
   "metadata": {},
   "source": [
    "There are too many entries with either director, cast and country with null values to simply eliminate them. Those null values will be replaced with a string 'No data'.\n",
    "All the other entries with null values will just be eliminated."
   ]
  },
  {
   "cell_type": "code",
   "execution_count": 4,
   "id": "2e341ea7",
   "metadata": {},
   "outputs": [
    {
     "name": "stdout",
     "output_type": "stream",
     "text": [
      "<class 'pandas.core.frame.DataFrame'>\n",
      "Int64Index: 8790 entries, 0 to 8806\n",
      "Data columns (total 12 columns):\n",
      " #   Column        Non-Null Count  Dtype \n",
      "---  ------        --------------  ----- \n",
      " 0   show_id       8790 non-null   object\n",
      " 1   type          8790 non-null   object\n",
      " 2   title         8790 non-null   object\n",
      " 3   director      8790 non-null   object\n",
      " 4   cast          8790 non-null   object\n",
      " 5   country       8790 non-null   object\n",
      " 6   date_added    8790 non-null   object\n",
      " 7   release_year  8790 non-null   int64 \n",
      " 8   rating        8790 non-null   object\n",
      " 9   duration      8790 non-null   object\n",
      " 10  listed_in     8790 non-null   object\n",
      " 11  description   8790 non-null   object\n",
      "dtypes: int64(1), object(11)\n",
      "memory usage: 892.7+ KB\n"
     ]
    }
   ],
   "source": [
    "df['director'].fillna('No data', inplace=True)\n",
    "df['cast'].fillna('No data', inplace=True)\n",
    "df['country'].fillna('No data', inplace=True)\n",
    "\n",
    "df.dropna(inplace=True)\n",
    "\n",
    "df.info()"
   ]
  },
  {
   "cell_type": "markdown",
   "id": "3aba1bda",
   "metadata": {},
   "source": [
    "### Some transformations"
   ]
  },
  {
   "cell_type": "markdown",
   "id": "b1987568",
   "metadata": {},
   "source": [
    "I will eliminate the show_id but keep the default index for now.\n",
    "\n",
    "The date_added feature will be splitted into 3: day, month and year."
   ]
  },
  {
   "cell_type": "code",
   "execution_count": 5,
   "id": "f4a1328a",
   "metadata": {},
   "outputs": [],
   "source": [
    "df.drop(columns=['show_id'], inplace=True)"
   ]
  },
  {
   "cell_type": "code",
   "execution_count": 6,
   "id": "f5b8373f",
   "metadata": {},
   "outputs": [],
   "source": [
    "df['date_added'] = pd.to_datetime(df['date_added'])\n",
    "\n",
    "df['date_added_year'] = df['date_added'].dt.year\n",
    "df['date_added_month'] = df['date_added'].dt.month\n",
    "df['date_added_month_name'] = df['date_added'].dt.month_name()\n",
    "df['date_added_day'] = df['date_added'].dt.day"
   ]
  },
  {
   "cell_type": "code",
   "execution_count": 7,
   "id": "3a6fd14e",
   "metadata": {},
   "outputs": [],
   "source": [
    "df['country'] = df['country'].str.split(',').str[0]"
   ]
  },
  {
   "cell_type": "code",
   "execution_count": 8,
   "id": "e4b2aff1",
   "metadata": {},
   "outputs": [],
   "source": [
    "df['listed_in'] = df['listed_in'].str.split(', ')"
   ]
  },
  {
   "cell_type": "code",
   "execution_count": 9,
   "id": "c8655e51",
   "metadata": {},
   "outputs": [],
   "source": [
    "df['count'] = 1"
   ]
  },
  {
   "cell_type": "code",
   "execution_count": 10,
   "id": "2a987601",
   "metadata": {},
   "outputs": [
    {
     "data": {
      "text/html": [
       "<div>\n",
       "<style scoped>\n",
       "    .dataframe tbody tr th:only-of-type {\n",
       "        vertical-align: middle;\n",
       "    }\n",
       "\n",
       "    .dataframe tbody tr th {\n",
       "        vertical-align: top;\n",
       "    }\n",
       "\n",
       "    .dataframe thead th {\n",
       "        text-align: right;\n",
       "    }\n",
       "</style>\n",
       "<table border=\"1\" class=\"dataframe\">\n",
       "  <thead>\n",
       "    <tr style=\"text-align: right;\">\n",
       "      <th></th>\n",
       "      <th>type</th>\n",
       "      <th>title</th>\n",
       "      <th>director</th>\n",
       "      <th>cast</th>\n",
       "      <th>country</th>\n",
       "      <th>date_added</th>\n",
       "      <th>release_year</th>\n",
       "      <th>rating</th>\n",
       "      <th>duration</th>\n",
       "      <th>listed_in</th>\n",
       "      <th>description</th>\n",
       "      <th>date_added_year</th>\n",
       "      <th>date_added_month</th>\n",
       "      <th>date_added_month_name</th>\n",
       "      <th>date_added_day</th>\n",
       "      <th>count</th>\n",
       "    </tr>\n",
       "  </thead>\n",
       "  <tbody>\n",
       "    <tr>\n",
       "      <th>0</th>\n",
       "      <td>Movie</td>\n",
       "      <td>Dick Johnson Is Dead</td>\n",
       "      <td>Kirsten Johnson</td>\n",
       "      <td>No data</td>\n",
       "      <td>United States</td>\n",
       "      <td>2021-09-25</td>\n",
       "      <td>2020</td>\n",
       "      <td>PG-13</td>\n",
       "      <td>90 min</td>\n",
       "      <td>[Documentaries]</td>\n",
       "      <td>As her father nears the end of his life, filmm...</td>\n",
       "      <td>2021</td>\n",
       "      <td>9</td>\n",
       "      <td>September</td>\n",
       "      <td>25</td>\n",
       "      <td>1</td>\n",
       "    </tr>\n",
       "    <tr>\n",
       "      <th>1</th>\n",
       "      <td>TV Show</td>\n",
       "      <td>Blood &amp; Water</td>\n",
       "      <td>No data</td>\n",
       "      <td>Ama Qamata, Khosi Ngema, Gail Mabalane, Thaban...</td>\n",
       "      <td>South Africa</td>\n",
       "      <td>2021-09-24</td>\n",
       "      <td>2021</td>\n",
       "      <td>TV-MA</td>\n",
       "      <td>2 Seasons</td>\n",
       "      <td>[International TV Shows, TV Dramas, TV Mysteries]</td>\n",
       "      <td>After crossing paths at a party, a Cape Town t...</td>\n",
       "      <td>2021</td>\n",
       "      <td>9</td>\n",
       "      <td>September</td>\n",
       "      <td>24</td>\n",
       "      <td>1</td>\n",
       "    </tr>\n",
       "  </tbody>\n",
       "</table>\n",
       "</div>"
      ],
      "text/plain": [
       "      type                 title         director  \\\n",
       "0    Movie  Dick Johnson Is Dead  Kirsten Johnson   \n",
       "1  TV Show         Blood & Water          No data   \n",
       "\n",
       "                                                cast        country  \\\n",
       "0                                            No data  United States   \n",
       "1  Ama Qamata, Khosi Ngema, Gail Mabalane, Thaban...   South Africa   \n",
       "\n",
       "  date_added  release_year rating   duration  \\\n",
       "0 2021-09-25          2020  PG-13     90 min   \n",
       "1 2021-09-24          2021  TV-MA  2 Seasons   \n",
       "\n",
       "                                           listed_in  \\\n",
       "0                                    [Documentaries]   \n",
       "1  [International TV Shows, TV Dramas, TV Mysteries]   \n",
       "\n",
       "                                         description  date_added_year  \\\n",
       "0  As her father nears the end of his life, filmm...             2021   \n",
       "1  After crossing paths at a party, a Cape Town t...             2021   \n",
       "\n",
       "   date_added_month date_added_month_name  date_added_day  count  \n",
       "0                 9             September              25      1  \n",
       "1                 9             September              24      1  "
      ]
     },
     "execution_count": 10,
     "metadata": {},
     "output_type": "execute_result"
    }
   ],
   "source": [
    "df.head(2)"
   ]
  },
  {
   "cell_type": "markdown",
   "id": "d92064bc",
   "metadata": {},
   "source": [
    "## When is content usually released?"
   ]
  },
  {
   "cell_type": "code",
   "execution_count": 11,
   "id": "5cf28115",
   "metadata": {},
   "outputs": [
    {
     "data": {
      "image/png": "[encoded data removed]",
      "text/plain": [
       "<Figure size 1008x504 with 1 Axes>"
      ]
     },
     "metadata": {
      "needs_background": "light"
     },
     "output_type": "display_data"
    }
   ],
   "source": [
    "df_seasonal = df.groupby('date_added_month')['count'].sum()\n",
    "\n",
    "x = ['Jan','Feb','Mar','Apr','May','Jun','Jul','Aug','Sep','Oct','Nov','Dez']\n",
    "y = df_seasonal.to_numpy()\n",
    "\n",
    "fig, ax = plt.subplots(1, 1, figsize=(14,7))\n",
    "ax.plot(x, y, lw=3, c='r')\n",
    "ax.set_xlabel('Month', fontsize='15')\n",
    "ax.set_ylabel('Total of released titles', fontsize='12')\n",
    "\n",
    "plt.show()"
   ]
  },
  {
   "cell_type": "markdown",
   "id": "96e9b6cc",
   "metadata": {},
   "source": [
    "The **large majority of titles** are released during summer (June to August, peaking in July) and Christmas time (December and January). This makes sense because most people have vacations in these periods. Next to those comes the Easter time (March and April).\n",
    "\n",
    "Although, if one wants to **release a new content and doesn't want to worry about competition**, February or May are very good months to do so."
   ]
  },
  {
   "cell_type": "markdown",
   "id": "2c8755b7",
   "metadata": {},
   "source": [
    "## Movies vs. TV Shows"
   ]
  },
  {
   "cell_type": "code",
   "execution_count": 12,
   "id": "a6d43a38",
   "metadata": {},
   "outputs": [
    {
     "data": {
      "text/plain": [
       "array(['Movie', 'TV Show'], dtype=object)"
      ]
     },
     "execution_count": 12,
     "metadata": {},
     "output_type": "execute_result"
    }
   ],
   "source": [
    "df['type'].unique()"
   ]
  },
  {
   "cell_type": "code",
   "execution_count": 13,
   "id": "c79602ad",
   "metadata": {},
   "outputs": [
    {
     "data": {
      "image/png": "[encoded data removed]",
      "text/plain": [
       "<Figure size 1008x504 with 1 Axes>"
      ]
     },
     "metadata": {},
     "output_type": "display_data"
    }
   ],
   "source": [
    "labels = df['type'].unique().tolist()\n",
    "counts = [df['type'].tolist().count(labels[0]), df['type'].tolist().count(labels[1])]\n",
    "\n",
    "fig1, ax1 = plt.subplots(1, 1, figsize=(14,7))\n",
    "ax1.pie(x=counts, labels=labels, autopct='%.2f%%')\n",
    "\n",
    "plt.show()"
   ]
  },
  {
   "cell_type": "markdown",
   "id": "0e183d15",
   "metadata": {},
   "source": [
    "In most cases, it makes more sense to just compare movies with movies and tv shows with tv shows. I will now split this dataset in two."
   ]
  },
  {
   "cell_type": "code",
   "execution_count": 14,
   "id": "b143d1e3",
   "metadata": {},
   "outputs": [],
   "source": [
    "df_movies = df.loc[df['type'] == 'Movie']\n",
    "df_movies['minutes'] = df_movies['duration'].str.split(' ').str[0].astype('int')\n",
    "df_movies.drop(columns=['type','duration'], inplace=True)\n",
    "\n",
    "\n",
    "df_tvshows = df.loc[df['type'] == 'TV Show']\n",
    "df_tvshows['num_seasons'] = df_tvshows['duration'].str.split(' ').str[0].astype('int')\n",
    "df_tvshows.drop(columns=['type','duration'], inplace=True)"
   ]
  },
  {
   "cell_type": "markdown",
   "id": "b8199b62",
   "metadata": {},
   "source": [
    "### Movies duration"
   ]
  },
  {
   "cell_type": "code",
   "execution_count": 15,
   "id": "46a82b1c",
   "metadata": {},
   "outputs": [
    {
     "data": {
      "text/plain": [
       "<AxesSubplot:ylabel='Density'>"
      ]
     },
     "execution_count": 15,
     "metadata": {},
     "output_type": "execute_result"
    },
    {
     "data": {
      "image/png": "[encoded data removed]",
      "text/plain": [
       "<Figure size 432x288 with 1 Axes>"
      ]
     },
     "metadata": {
      "needs_background": "light"
     },
     "output_type": "display_data"
    }
   ],
   "source": [
    "ma = df_movies['minutes'].max()\n",
    "df_movies['minutes'].plot.kde(xlim=(0,ma))"
   ]
  },
  {
   "cell_type": "markdown",
   "id": "9666cbaf",
   "metadata": {},
   "source": [
    "The vast majority of the movies on Netflix have their duration between 75 and 125 minutes. This makes sense, considering few people like to watch more than a 2 hours movie straight. Everyone complains if a movie is too long... but binge watch an entire season is a peace of cake, right? :p"
   ]
  },
  {
   "cell_type": "markdown",
   "id": "a73a20b3",
   "metadata": {},
   "source": [
    "#### What are the longest movies? And the shortest?"
   ]
  },
  {
   "cell_type": "code",
   "execution_count": 16,
   "id": "4100c1bc",
   "metadata": {},
   "outputs": [
    {
     "data": {
      "image/png": "[encoded data removed]",
      "text/plain": [
       "<Figure size 1440x360 with 2 Axes>"
      ]
     },
     "metadata": {
      "needs_background": "light"
     },
     "output_type": "display_data"
    }
   ],
   "source": [
    "long_movies = df_movies[['title','minutes']].sort_values(by='minutes', ascending=False)\n",
    "short_movies = long_movies.tail(5)\n",
    "long_movies = long_movies.head(5)\n",
    "\n",
    "long_labels = long_movies['title'].to_numpy()\n",
    "short_labels = short_movies['title'].to_numpy()\n",
    "\n",
    "fig, ax = plt.subplots(1, 2, figsize=(20,5))\n",
    "\n",
    "ax[0].bar(x=long_labels, height=long_movies['minutes'].to_numpy(), color='r')\n",
    "ax[0].set_title('Longest Movies', fontsize=15)\n",
    "ax[0].set_xticklabels(long_labels, rotation=45)\n",
    "ax[0].set_ylabel('Duration (min)', fontsize=12)\n",
    "ax[1].bar(x=short_labels, height=short_movies['minutes'].to_numpy(), color='b')\n",
    "ax[1].set_title('Shortest Movies', fontsize=15)\n",
    "ax[1].set_xticklabels(short_labels, rotation=45)\n",
    "ax[1].set_ylabel('Duration (min)', fontsize=12)\n",
    "\n",
    "plt.show()"
   ]
  },
  {
   "cell_type": "markdown",
   "id": "a53d7435",
   "metadata": {},
   "source": [
    "### TV Shows duration"
   ]
  },
  {
   "cell_type": "code",
   "execution_count": 17,
   "id": "1880eef0",
   "metadata": {},
   "outputs": [
    {
     "data": {
      "text/plain": [
       "<AxesSubplot:ylabel='Density'>"
      ]
     },
     "execution_count": 17,
     "metadata": {},
     "output_type": "execute_result"
    },
    {
     "data": {
      "image/png": "[encoded data removed]",
      "text/plain": [
       "<Figure size 432x288 with 1 Axes>"
      ]
     },
     "metadata": {
      "needs_background": "light"
     },
     "output_type": "display_data"
    }
   ],
   "source": [
    "ma = df_tvshows['num_seasons'].max()\n",
    "df_tvshows['num_seasons'].plot.kde(xlim=(0,ma))"
   ]
  },
  {
   "cell_type": "markdown",
   "id": "2141c6b7",
   "metadata": {},
   "source": [
    "Most of Netlix TV shows have only one season. This is also an expected value. Consider that under the category of \"one season series\" falls a lot of content:\n",
    "* Limited Series\n",
    "* Unsuccessful shows cancelled after the first season\n",
    "* Ongoing tv shows that recently started (and a lot of content started in the last few years)"
   ]
  },
  {
   "cell_type": "markdown",
   "id": "1da9f94a",
   "metadata": {},
   "source": [
    "#### What are the longest TV Shows?"
   ]
  },
  {
   "cell_type": "code",
   "execution_count": 18,
   "id": "3e879fc2",
   "metadata": {},
   "outputs": [
    {
     "data": {
      "image/png": "[encoded data removed]",
      "text/plain": [
       "<Figure size 1152x432 with 1 Axes>"
      ]
     },
     "metadata": {
      "needs_background": "light"
     },
     "output_type": "display_data"
    }
   ],
   "source": [
    "long_shows = df_tvshows[['title', 'num_seasons']].sort_values(by='num_seasons', ascending=False)[:10]\n",
    "\n",
    "fig, ax = plt.subplots(1, 1, figsize=(16,6))\n",
    "\n",
    "idx = long_shows['title'].to_numpy()\n",
    "duration = long_shows['num_seasons'].to_numpy()\n",
    "ax.bar(idx, duration, color='red')\n",
    "ax.set_xticklabels(idx, rotation='30')\n",
    "ax.set_ylabel('Number of Seasons', fontsize=15)\n",
    "\n",
    "plt.show()"
   ]
  },
  {
   "cell_type": "markdown",
   "id": "617a8097",
   "metadata": {},
   "source": [
    "**Note:** If the dataset had information on content rating (not age rating!), it would be nice to see if rating was correlated with the number of seasons. I would expect series with a high number of seasons to have good ratings because it doesn't make sense to keep spending money on content that has negative feedback from the viewers."
   ]
  },
  {
   "cell_type": "markdown",
   "id": "84e4d14b",
   "metadata": {},
   "source": [
    "## When was most content released?"
   ]
  },
  {
   "cell_type": "markdown",
   "id": "85e5749f",
   "metadata": {},
   "source": [
    "I said above that content of Netflix was being released now more than ever. But I said it out common knowledge. Let's check if the data agrees with my statement!"
   ]
  },
  {
   "cell_type": "code",
   "execution_count": 19,
   "id": "f695204b",
   "metadata": {},
   "outputs": [
    {
     "data": {
      "image/png": "[encoded data removed]",
      "text/plain": [
       "<Figure size 1008x504 with 1 Axes>"
      ]
     },
     "metadata": {
      "needs_background": "light"
     },
     "output_type": "display_data"
    }
   ],
   "source": [
    "df_yearly = df.groupby('date_added_year')['count'].sum()\n",
    "\n",
    "x = df_yearly.index\n",
    "y = df_yearly.to_numpy()\n",
    "\n",
    "fig, ax = plt.subplots(1, 1, figsize=(14,7))\n",
    "ax.plot(x, y, lw=3, c='b', marker='o')\n",
    "ax.set_xlabel('Year', fontsize='15')\n",
    "ax.set_ylabel('Total of released titles', fontsize='12')\n",
    "\n",
    "plt.show()"
   ]
  },
  {
   "cell_type": "markdown",
   "id": "b05926d0",
   "metadata": {},
   "source": [
    "Indeed, the data confirms my lastest statement. We can observe a significant rise in releases on the year 2016 and this number exploded until it reached a peak in 2018. What changed after 2016?\n",
    "\n",
    "According to Wikipedia, Netflix started to produce original content in 2013 and expanded to international productions in 2017. These information may justify both the slow rise in 2014 and the explosion after 2016. (source: https://en.wikipedia.org/wiki/Netflix )"
   ]
  },
  {
   "cell_type": "markdown",
   "id": "55b4408d",
   "metadata": {},
   "source": [
    "## How much content is a Netflix Original?"
   ]
  },
  {
   "cell_type": "markdown",
   "id": "584c5c1b",
   "metadata": {},
   "source": [
    "The Netflix database used for this example doesn't have information on whether the content is an original production or not. An approximation of this information will be to check if **a title was added to the Netflix on the year it was released** or not, since an original Netflix content will always be available on Netflix as soon as that content is released.\n",
    "\n",
    "I will then compare the total available content with the *approximation number* of original Netflix content throughout the years."
   ]
  },
  {
   "cell_type": "code",
   "execution_count": 20,
   "id": "96184013",
   "metadata": {},
   "outputs": [],
   "source": [
    "df_sameyear = df.loc[df['date_added_year'] == df['release_year']].groupby('date_added_year')['count'].sum()\n",
    "# get accumulated sum\n",
    "df_sameyear = df_sameyear.cumsum()\n",
    "\n",
    "df_total = df.groupby('date_added_year')['count'].sum()\n",
    "df_total = df_total.cumsum()\n",
    "\n",
    "df_releases = pd.merge(df_total, df_sameyear, how='outer', left_index=True, right_index=True)\n",
    "\n",
    "# Deal with NaN:\n",
    "# if no new title, the value is the same as the previous year\n",
    "df_releases.fillna(method='ffill', inplace=True)\n",
    "# deal with first line\n",
    "df_releases.fillna('0', inplace=True)"
   ]
  },
  {
   "cell_type": "code",
   "execution_count": 21,
   "id": "47ed4a6d",
   "metadata": {},
   "outputs": [
    {
     "data": {
      "image/png": "[encoded data removed]",
      "text/plain": [
       "<Figure size 1080x720 with 1 Axes>"
      ]
     },
     "metadata": {
      "needs_background": "light"
     },
     "output_type": "display_data"
    }
   ],
   "source": [
    "fig, ax = plt.subplots(1, 1, figsize=(15,10))\n",
    "\n",
    "x = df_releases.index.to_numpy()\n",
    "\n",
    "total = df_releases.iloc[:,0].to_numpy()\n",
    "direct = df_releases.iloc[:,1].astype(int).to_numpy()\n",
    "\n",
    "ax.fill_between(x, total, color='black')\n",
    "ax.fill_between(x, direct, color='red')\n",
    "#ax.plot(x, direct, color='red')\n",
    "\n",
    "plt.show()"
   ]
  },
  {
   "cell_type": "markdown",
   "id": "2cb7ee0f",
   "metadata": {},
   "source": [
    "As mentioned before, Netflix started producing original content in 2013, which is where the black and red areas start to come apart.\n",
    "\n",
    "On 2016, around half of the content falls under my *approximation* of original content, which is the year Netflix start making internation productions. As the years went by, production of this type of content continued to rise, but it only represents about 1/3 of all the content available in the streaming platform."
   ]
  },
  {
   "cell_type": "markdown",
   "id": "8851f0d8",
   "metadata": {},
   "source": [
    "## Which contries have more content on Netflix?"
   ]
  },
  {
   "cell_type": "code",
   "execution_count": 22,
   "id": "e841155b",
   "metadata": {},
   "outputs": [
    {
     "data": {
      "text/plain": [
       "Index(['United States', 'India', 'United Kingdom', 'Canada', 'Japan', 'France',\n",
       "       'South Korea', 'Spain', 'Mexico', 'Australia'],\n",
       "      dtype='object', name='country')"
      ]
     },
     "execution_count": 22,
     "metadata": {},
     "output_type": "execute_result"
    }
   ],
   "source": [
    "df_countries = df.loc[df['country'] != 'No data']\n",
    "df_countries = df_countries.groupby('country')['count'].sum().sort_values(ascending=False)[:10]\n",
    "df_countries.index"
   ]
  },
  {
   "cell_type": "code",
   "execution_count": 23,
   "id": "3751ec51",
   "metadata": {},
   "outputs": [
    {
     "data": {
      "image/png": "[encoded data removed]",
      "text/plain": [
       "<Figure size 1008x720 with 1 Axes>"
      ]
     },
     "metadata": {
      "needs_background": "light"
     },
     "output_type": "display_data"
    }
   ],
   "source": [
    "movies_country = df_movies.groupby('country')['count'].sum()\n",
    "movies_country = movies_country[df_countries.index]\n",
    "series_country = df_tvshows.groupby('country')['count'].sum()\n",
    "series_country = series_country[df_countries.index]\n",
    "\n",
    "fig, ax = plt.subplots(1, 1, figsize=(14,10))\n",
    "\n",
    "idx = df_countries.index.to_numpy()\n",
    "mov = movies_country.to_numpy()\n",
    "tv = series_country.to_numpy()\n",
    "\n",
    "ax.bar(idx, mov)\n",
    "ax.bar(idx, tv, bottom=mov, color='orange')\n",
    "ax.set_xlabel('Countries', fontsize=15)\n",
    "ax.set_ylabel('Number of released titles', fontsize=12)\n",
    "ax.legend(labels=['Movies', 'TV Shows'])\n",
    "\n",
    "plt.show()"
   ]
  },
  {
   "cell_type": "markdown",
   "id": "e14f17f7",
   "metadata": {},
   "source": [
    "The vast majority of Netflix titles are from the US, which makes sense considering it's where Netflix was born in the first place (August 29, 1997 in Scotts Valley, California, US).\n",
    "\n",
    "In the shown top 10, movies are the dominant content, which complies to pie chart displayed above. Exceptions for the Japan and South Korea."
   ]
  },
  {
   "cell_type": "markdown",
   "id": "21563744",
   "metadata": {},
   "source": [
    "### K-Drama: genres in South Korea"
   ]
  },
  {
   "cell_type": "markdown",
   "id": "c786c907",
   "metadata": {},
   "source": [
    "In recent years, K-dramas have become quite popular. Let's see if this genre dominates South Korea's titles."
   ]
  },
  {
   "cell_type": "code",
   "execution_count": 24,
   "id": "b46caf7e",
   "metadata": {},
   "outputs": [
    {
     "data": {
      "text/html": [
       "<div>\n",
       "<style scoped>\n",
       "    .dataframe tbody tr th:only-of-type {\n",
       "        vertical-align: middle;\n",
       "    }\n",
       "\n",
       "    .dataframe tbody tr th {\n",
       "        vertical-align: top;\n",
       "    }\n",
       "\n",
       "    .dataframe thead th {\n",
       "        text-align: right;\n",
       "    }\n",
       "</style>\n",
       "<table border=\"1\" class=\"dataframe\">\n",
       "  <thead>\n",
       "    <tr style=\"text-align: right;\">\n",
       "      <th></th>\n",
       "      <th>title</th>\n",
       "      <th>type</th>\n",
       "      <th>listed_in</th>\n",
       "    </tr>\n",
       "  </thead>\n",
       "  <tbody>\n",
       "    <tr>\n",
       "      <th>104</th>\n",
       "      <td>Tayo the Little Bus</td>\n",
       "      <td>TV Show</td>\n",
       "      <td>[Kids' TV, Korean TV Shows]</td>\n",
       "    </tr>\n",
       "    <tr>\n",
       "      <th>124</th>\n",
       "      <td>Pororo - The Little Penguin</td>\n",
       "      <td>TV Show</td>\n",
       "      <td>[Kids' TV, Korean TV Shows]</td>\n",
       "    </tr>\n",
       "    <tr>\n",
       "      <th>289</th>\n",
       "      <td>The Crowned Clown</td>\n",
       "      <td>TV Show</td>\n",
       "      <td>[International TV Shows, Romantic TV Shows, TV...</td>\n",
       "    </tr>\n",
       "    <tr>\n",
       "      <th>456</th>\n",
       "      <td>Her Private Life</td>\n",
       "      <td>TV Show</td>\n",
       "      <td>[International TV Shows, Romantic TV Shows, TV...</td>\n",
       "    </tr>\n",
       "    <tr>\n",
       "      <th>545</th>\n",
       "      <td>YooHoo to the Rescue</td>\n",
       "      <td>TV Show</td>\n",
       "      <td>[Kids' TV, Korean TV Shows]</td>\n",
       "    </tr>\n",
       "  </tbody>\n",
       "</table>\n",
       "</div>"
      ],
      "text/plain": [
       "                           title     type  \\\n",
       "104          Tayo the Little Bus  TV Show   \n",
       "124  Pororo - The Little Penguin  TV Show   \n",
       "289            The Crowned Clown  TV Show   \n",
       "456             Her Private Life  TV Show   \n",
       "545         YooHoo to the Rescue  TV Show   \n",
       "\n",
       "                                             listed_in  \n",
       "104                        [Kids' TV, Korean TV Shows]  \n",
       "124                        [Kids' TV, Korean TV Shows]  \n",
       "289  [International TV Shows, Romantic TV Shows, TV...  \n",
       "456  [International TV Shows, Romantic TV Shows, TV...  \n",
       "545                        [Kids' TV, Korean TV Shows]  "
      ]
     },
     "execution_count": 24,
     "metadata": {},
     "output_type": "execute_result"
    }
   ],
   "source": [
    "SKorea = df.loc[df['country'] == 'South Korea', ['title', 'type', 'listed_in']]\n",
    "SKorea.head()"
   ]
  },
  {
   "cell_type": "code",
   "execution_count": 25,
   "id": "6f92236a",
   "metadata": {},
   "outputs": [],
   "source": [
    "SKorea_movies = SKorea.loc[SKorea['type'] == 'Movie']\n",
    "SKorea_tvshows = SKorea.loc[SKorea['type'] == 'TV Show']"
   ]
  },
  {
   "cell_type": "code",
   "execution_count": 26,
   "id": "721b73b8",
   "metadata": {},
   "outputs": [],
   "source": [
    "list_genres = []    # enumerate every unique genre\n",
    "for sublist in list(SKorea['listed_in']):\n",
    "     for item in sublist:\n",
    "            if item not in list_genres:\n",
    "                list_genres.append(item)\n",
    "\n",
    "# flatten genres in movies and tv shows\n",
    "movies_genres = []\n",
    "for sublist in list(SKorea_movies['listed_in']):\n",
    "     for item in sublist:\n",
    "        movies_genres.append(item)\n",
    "            \n",
    "tvshows_genres = []\n",
    "for sublist in list(SKorea_tvshows['listed_in']):\n",
    "     for item in sublist:\n",
    "        tvshows_genres.append(item)"
   ]
  },
  {
   "cell_type": "code",
   "execution_count": 27,
   "id": "9087fece",
   "metadata": {},
   "outputs": [
    {
     "data": {
      "text/html": [
       "<div>\n",
       "<style scoped>\n",
       "    .dataframe tbody tr th:only-of-type {\n",
       "        vertical-align: middle;\n",
       "    }\n",
       "\n",
       "    .dataframe tbody tr th {\n",
       "        vertical-align: top;\n",
       "    }\n",
       "\n",
       "    .dataframe thead th {\n",
       "        text-align: right;\n",
       "    }\n",
       "</style>\n",
       "<table border=\"1\" class=\"dataframe\">\n",
       "  <thead>\n",
       "    <tr style=\"text-align: right;\">\n",
       "      <th></th>\n",
       "      <th>movies</th>\n",
       "      <th>tv_shows</th>\n",
       "    </tr>\n",
       "    <tr>\n",
       "      <th>genre</th>\n",
       "      <th></th>\n",
       "      <th></th>\n",
       "    </tr>\n",
       "  </thead>\n",
       "  <tbody>\n",
       "    <tr>\n",
       "      <th>Action &amp; Adventure</th>\n",
       "      <td>16.0</td>\n",
       "      <td>NaN</td>\n",
       "    </tr>\n",
       "    <tr>\n",
       "      <th>Children &amp; Family Movies</th>\n",
       "      <td>3.0</td>\n",
       "      <td>NaN</td>\n",
       "    </tr>\n",
       "    <tr>\n",
       "      <th>Comedies</th>\n",
       "      <td>10.0</td>\n",
       "      <td>NaN</td>\n",
       "    </tr>\n",
       "    <tr>\n",
       "      <th>Crime TV Shows</th>\n",
       "      <td>NaN</td>\n",
       "      <td>24.0</td>\n",
       "    </tr>\n",
       "    <tr>\n",
       "      <th>Cult Movies</th>\n",
       "      <td>1.0</td>\n",
       "      <td>NaN</td>\n",
       "    </tr>\n",
       "  </tbody>\n",
       "</table>\n",
       "</div>"
      ],
      "text/plain": [
       "                          movies  tv_shows\n",
       "genre                                     \n",
       "Action & Adventure          16.0       NaN\n",
       "Children & Family Movies     3.0       NaN\n",
       "Comedies                    10.0       NaN\n",
       "Crime TV Shows               NaN      24.0\n",
       "Cult Movies                  1.0       NaN"
      ]
     },
     "execution_count": 27,
     "metadata": {},
     "output_type": "execute_result"
    }
   ],
   "source": [
    "SKorea_genres = pd.DataFrame()\n",
    "SKorea_genres['genre'] = sorted(list_genres)\n",
    "SKorea_genres.set_index('genre', inplace=True)\n",
    "\n",
    "temp = pd.DataFrame()\n",
    "temp['genre'] = movies_genres\n",
    "temp['movies'] = 1\n",
    "temp = temp.groupby('genre')['movies'].sum().to_frame()\n",
    "SKorea_genres = SKorea_genres.merge(temp, how='outer', left_on='genre', right_on='genre')\n",
    "\n",
    "temp = pd.DataFrame()\n",
    "temp['genre'] = tvshows_genres\n",
    "temp['tv_shows'] = 1\n",
    "temp = temp.groupby('genre')['tv_shows'].sum().to_frame()\n",
    "SKorea_genres = SKorea_genres.merge(temp, how='outer', left_on='genre', right_on='genre')\n",
    "\n",
    "# drop non-relevant genres\n",
    "SKorea_genres.drop(index=['International Movies','International TV Shows','Korean TV Shows','Independent Movies'], inplace=True)\n",
    "\n",
    "SKorea_genres.head()"
   ]
  },
  {
   "cell_type": "markdown",
   "id": "87564c9b",
   "metadata": {},
   "source": [
    "**Note:** Some of the transformations done ended up not being necessary as Movies and TV Shows have no genre with the same name. This is due to TV genres having the word 'TV' in almost all of them. My initial goal was to have a Pandas DataFrame with all the genres as indexes and two columns, counting movies and tv shows for the indexed genre. A possible solution could be to simply remove the 'TV' and 'Movies' words from the string in the indexes.\n",
    "\n",
    "Still, I will not remove this code because this would be what I'd do if the genre names were stardardized."
   ]
  },
  {
   "cell_type": "code",
   "execution_count": 28,
   "id": "49fff346",
   "metadata": {},
   "outputs": [
    {
     "data": {
      "image/png": "[encoded data removed]",
      "text/plain": [
       "<Figure size 1440x864 with 2 Axes>"
      ]
     },
     "metadata": {},
     "output_type": "display_data"
    }
   ],
   "source": [
    "labels_movies = SKorea_genres['movies'].dropna().index\n",
    "counts_movies = SKorea_genres['movies'].dropna().to_numpy()\n",
    "\n",
    "labels_tvshows = SKorea_genres['tv_shows'].dropna().index\n",
    "counts_tvshows = SKorea_genres['tv_shows'].dropna().to_numpy()\n",
    "\n",
    "fig, ax = plt.subplots(1, 2, figsize=(20,12))\n",
    "ax[0].pie(x=counts_movies, labels=labels_movies, autopct='%.0f%%')\n",
    "ax[0].set_title('Movies', fontsize=15)\n",
    "ax[1].pie(x=counts_tvshows, labels=labels_tvshows, autopct='%.0f%%')\n",
    "ax[1].set_title('TV Shows', fontsize=15)\n",
    "\n",
    "plt.show()"
   ]
  },
  {
   "cell_type": "markdown",
   "id": "9b2dcd46",
   "metadata": {},
   "source": [
    "As expected, K-Dramas own their place on the top of the South Korean content on Netflix. Regarding movies, they are the most represented genre and on TV Shows they are second, only loosing to Romantic TV Shows."
   ]
  },
  {
   "cell_type": "markdown",
   "id": "78c71f45",
   "metadata": {},
   "source": [
    "### Are Drama and Romantic Shows \"the same\"?"
   ]
  },
  {
   "cell_type": "markdown",
   "id": "c4bc71f5",
   "metadata": {},
   "source": [
    "I was actually commenting these results with my home mate saying: \"Oh, K-Drama is not the most predominant genre in Korean TV Shows, it's Romantic\" and he actually answered with \"Like there is a difference! Every drama is romantic drama!\" \n",
    "\n",
    "Well, is there a difference?"
   ]
  },
  {
   "cell_type": "code",
   "execution_count": 29,
   "id": "20580557",
   "metadata": {},
   "outputs": [
    {
     "data": {
      "image/png": "[encoded data removed]",
      "text/plain": [
       "<Figure size 576x432 with 1 Axes>"
      ]
     },
     "metadata": {},
     "output_type": "display_data"
    }
   ],
   "source": [
    "romantic = SKorea_tvshows[SKorea_tvshows['listed_in'].apply(lambda x: 'Romantic TV Shows' in x)].index\n",
    "drama = SKorea_tvshows[SKorea_tvshows['listed_in'].apply(lambda x: 'TV Dramas' in x)].index\n",
    "\n",
    "plt.figure(figsize=(8,6))\n",
    "v = venn2([set(romantic), set(drama)], set_colors=('red','yellow'), set_labels=('Romantic', 'Drama'))\n",
    "plt.show()"
   ]
  },
  {
   "cell_type": "markdown",
   "id": "3ec955c5",
   "metadata": {},
   "source": [
    "It looks like the data doesn't agree with my home mate. From a universe of 107 TV Shows labeled as Romantic or Drama, only 5 of them share these two genres."
   ]
  },
  {
   "cell_type": "markdown",
   "id": "23945490",
   "metadata": {},
   "source": [
    "## Recomendation System"
   ]
  },
  {
   "cell_type": "markdown",
   "id": "20f57140",
   "metadata": {},
   "source": [
    "It's impossible to think about Netflix and not think about doing a recomendation system. I must confess I'd like to again have the information about the quality rates of the titles, but I'll do a simple one using the data that I have.\n",
    "\n",
    "I'll do one using the movies subset, but the logic is exactly the same for the TV shows. The system will be based on the unsupervised machine learning method called K-Means Clustering."
   ]
  },
  {
   "cell_type": "code",
   "execution_count": 30,
   "id": "d1d5c928",
   "metadata": {},
   "outputs": [
    {
     "data": {
      "text/html": [
       "<div>\n",
       "<style scoped>\n",
       "    .dataframe tbody tr th:only-of-type {\n",
       "        vertical-align: middle;\n",
       "    }\n",
       "\n",
       "    .dataframe tbody tr th {\n",
       "        vertical-align: top;\n",
       "    }\n",
       "\n",
       "    .dataframe thead th {\n",
       "        text-align: right;\n",
       "    }\n",
       "</style>\n",
       "<table border=\"1\" class=\"dataframe\">\n",
       "  <thead>\n",
       "    <tr style=\"text-align: right;\">\n",
       "      <th></th>\n",
       "      <th>title</th>\n",
       "      <th>rating</th>\n",
       "      <th>listed_in</th>\n",
       "    </tr>\n",
       "  </thead>\n",
       "  <tbody>\n",
       "    <tr>\n",
       "      <th>0</th>\n",
       "      <td>Dick Johnson Is Dead</td>\n",
       "      <td>PG13</td>\n",
       "      <td>[Documentaries]</td>\n",
       "    </tr>\n",
       "    <tr>\n",
       "      <th>6</th>\n",
       "      <td>My Little Pony: A New Generation</td>\n",
       "      <td>PG</td>\n",
       "      <td>[Children &amp; Family Movies]</td>\n",
       "    </tr>\n",
       "    <tr>\n",
       "      <th>7</th>\n",
       "      <td>Sankofa</td>\n",
       "      <td>R</td>\n",
       "      <td>[Dramas, Independent Movies, International Mov...</td>\n",
       "    </tr>\n",
       "    <tr>\n",
       "      <th>9</th>\n",
       "      <td>The Starling</td>\n",
       "      <td>PG13</td>\n",
       "      <td>[Comedies, Dramas]</td>\n",
       "    </tr>\n",
       "    <tr>\n",
       "      <th>12</th>\n",
       "      <td>Je Suis Karl</td>\n",
       "      <td>R</td>\n",
       "      <td>[Dramas, International Movies]</td>\n",
       "    </tr>\n",
       "  </tbody>\n",
       "</table>\n",
       "</div>"
      ],
      "text/plain": [
       "                               title rating  \\\n",
       "0               Dick Johnson Is Dead   PG13   \n",
       "6   My Little Pony: A New Generation     PG   \n",
       "7                            Sankofa      R   \n",
       "9                       The Starling   PG13   \n",
       "12                      Je Suis Karl      R   \n",
       "\n",
       "                                            listed_in  \n",
       "0                                     [Documentaries]  \n",
       "6                          [Children & Family Movies]  \n",
       "7   [Dramas, Independent Movies, International Mov...  \n",
       "9                                  [Comedies, Dramas]  \n",
       "12                     [Dramas, International Movies]  "
      ]
     },
     "execution_count": 30,
     "metadata": {},
     "output_type": "execute_result"
    }
   ],
   "source": [
    "df_rec_system = df_movies[['title', 'rating', 'listed_in']]\n",
    "\n",
    "# Simplify age ratings using information from: https://atlascinemas.net/ratings.html \n",
    "\n",
    "ratings = {\n",
    "    'TV-PG': 'PG',\n",
    "    'TV-MA': 'R',\n",
    "    'TV-Y7-FV': 'PG',\n",
    "    'TV-Y7': 'PG',\n",
    "    'TV-14': 'PG13',\n",
    "    'R': 'R',\n",
    "    'TV-Y': 'G',\n",
    "    'NR': 'R',\n",
    "    'PG-13': 'PG13',\n",
    "    'TV-G': 'G',\n",
    "    'PG': 'PG',\n",
    "    'G': 'G',\n",
    "    'UR': 'R',\n",
    "    'NC-17': 'R'\n",
    "}\n",
    "\n",
    "df_rec_system['rating'] = df['rating'].replace(ratings)\n",
    "\n",
    "df_rec_system.head()"
   ]
  },
  {
   "cell_type": "markdown",
   "id": "44c032c3",
   "metadata": {},
   "source": [
    "### Encoding age ratings"
   ]
  },
  {
   "cell_type": "code",
   "execution_count": 31,
   "id": "3861418e",
   "metadata": {},
   "outputs": [
    {
     "data": {
      "text/html": [
       "<div>\n",
       "<style scoped>\n",
       "    .dataframe tbody tr th:only-of-type {\n",
       "        vertical-align: middle;\n",
       "    }\n",
       "\n",
       "    .dataframe tbody tr th {\n",
       "        vertical-align: top;\n",
       "    }\n",
       "\n",
       "    .dataframe thead th {\n",
       "        text-align: right;\n",
       "    }\n",
       "</style>\n",
       "<table border=\"1\" class=\"dataframe\">\n",
       "  <thead>\n",
       "    <tr style=\"text-align: right;\">\n",
       "      <th></th>\n",
       "      <th>title</th>\n",
       "      <th>listed_in</th>\n",
       "      <th>G</th>\n",
       "      <th>PG</th>\n",
       "      <th>PG13</th>\n",
       "      <th>R</th>\n",
       "    </tr>\n",
       "  </thead>\n",
       "  <tbody>\n",
       "    <tr>\n",
       "      <th>0</th>\n",
       "      <td>Dick Johnson Is Dead</td>\n",
       "      <td>[Documentaries]</td>\n",
       "      <td>0</td>\n",
       "      <td>0</td>\n",
       "      <td>1</td>\n",
       "      <td>0</td>\n",
       "    </tr>\n",
       "    <tr>\n",
       "      <th>6</th>\n",
       "      <td>My Little Pony: A New Generation</td>\n",
       "      <td>[Children &amp; Family Movies]</td>\n",
       "      <td>0</td>\n",
       "      <td>1</td>\n",
       "      <td>0</td>\n",
       "      <td>0</td>\n",
       "    </tr>\n",
       "    <tr>\n",
       "      <th>7</th>\n",
       "      <td>Sankofa</td>\n",
       "      <td>[Dramas, Independent Movies, International Mov...</td>\n",
       "      <td>0</td>\n",
       "      <td>0</td>\n",
       "      <td>0</td>\n",
       "      <td>1</td>\n",
       "    </tr>\n",
       "    <tr>\n",
       "      <th>9</th>\n",
       "      <td>The Starling</td>\n",
       "      <td>[Comedies, Dramas]</td>\n",
       "      <td>0</td>\n",
       "      <td>0</td>\n",
       "      <td>1</td>\n",
       "      <td>0</td>\n",
       "    </tr>\n",
       "    <tr>\n",
       "      <th>12</th>\n",
       "      <td>Je Suis Karl</td>\n",
       "      <td>[Dramas, International Movies]</td>\n",
       "      <td>0</td>\n",
       "      <td>0</td>\n",
       "      <td>0</td>\n",
       "      <td>1</td>\n",
       "    </tr>\n",
       "    <tr>\n",
       "      <th>...</th>\n",
       "      <td>...</td>\n",
       "      <td>...</td>\n",
       "      <td>...</td>\n",
       "      <td>...</td>\n",
       "      <td>...</td>\n",
       "      <td>...</td>\n",
       "    </tr>\n",
       "    <tr>\n",
       "      <th>8801</th>\n",
       "      <td>Zinzana</td>\n",
       "      <td>[Dramas, International Movies, Thrillers]</td>\n",
       "      <td>0</td>\n",
       "      <td>0</td>\n",
       "      <td>0</td>\n",
       "      <td>1</td>\n",
       "    </tr>\n",
       "    <tr>\n",
       "      <th>8802</th>\n",
       "      <td>Zodiac</td>\n",
       "      <td>[Cult Movies, Dramas, Thrillers]</td>\n",
       "      <td>0</td>\n",
       "      <td>0</td>\n",
       "      <td>0</td>\n",
       "      <td>1</td>\n",
       "    </tr>\n",
       "    <tr>\n",
       "      <th>8804</th>\n",
       "      <td>Zombieland</td>\n",
       "      <td>[Comedies, Horror Movies]</td>\n",
       "      <td>0</td>\n",
       "      <td>0</td>\n",
       "      <td>0</td>\n",
       "      <td>1</td>\n",
       "    </tr>\n",
       "    <tr>\n",
       "      <th>8805</th>\n",
       "      <td>Zoom</td>\n",
       "      <td>[Children &amp; Family Movies, Comedies]</td>\n",
       "      <td>0</td>\n",
       "      <td>1</td>\n",
       "      <td>0</td>\n",
       "      <td>0</td>\n",
       "    </tr>\n",
       "    <tr>\n",
       "      <th>8806</th>\n",
       "      <td>Zubaan</td>\n",
       "      <td>[Dramas, International Movies, Music &amp; Musicals]</td>\n",
       "      <td>0</td>\n",
       "      <td>0</td>\n",
       "      <td>1</td>\n",
       "      <td>0</td>\n",
       "    </tr>\n",
       "  </tbody>\n",
       "</table>\n",
       "<p>6126 rows × 6 columns</p>\n",
       "</div>"
      ],
      "text/plain": [
       "                                 title  \\\n",
       "0                 Dick Johnson Is Dead   \n",
       "6     My Little Pony: A New Generation   \n",
       "7                              Sankofa   \n",
       "9                         The Starling   \n",
       "12                        Je Suis Karl   \n",
       "...                                ...   \n",
       "8801                           Zinzana   \n",
       "8802                            Zodiac   \n",
       "8804                        Zombieland   \n",
       "8805                              Zoom   \n",
       "8806                            Zubaan   \n",
       "\n",
       "                                              listed_in  G  PG  PG13  R  \n",
       "0                                       [Documentaries]  0   0     1  0  \n",
       "6                            [Children & Family Movies]  0   1     0  0  \n",
       "7     [Dramas, Independent Movies, International Mov...  0   0     0  1  \n",
       "9                                    [Comedies, Dramas]  0   0     1  0  \n",
       "12                       [Dramas, International Movies]  0   0     0  1  \n",
       "...                                                 ... ..  ..   ... ..  \n",
       "8801          [Dramas, International Movies, Thrillers]  0   0     0  1  \n",
       "8802                   [Cult Movies, Dramas, Thrillers]  0   0     0  1  \n",
       "8804                          [Comedies, Horror Movies]  0   0     0  1  \n",
       "8805               [Children & Family Movies, Comedies]  0   1     0  0  \n",
       "8806   [Dramas, International Movies, Music & Musicals]  0   0     1  0  \n",
       "\n",
       "[6126 rows x 6 columns]"
      ]
     },
     "execution_count": 31,
     "metadata": {},
     "output_type": "execute_result"
    }
   ],
   "source": [
    "rating_enc = pd.get_dummies(df_rec_system.rating)\n",
    "\n",
    "df_rec_system = pd.merge(df_rec_system, rating_enc, how='inner', left_index=True, right_index=True)\n",
    "df_rec_system.drop(columns='rating', inplace=True)\n",
    "\n",
    "df_rec_system"
   ]
  },
  {
   "cell_type": "markdown",
   "id": "109d51ce",
   "metadata": {},
   "source": [
    "### Encoding a list type column"
   ]
  },
  {
   "cell_type": "markdown",
   "id": "ffacf080",
   "metadata": {},
   "source": [
    "#### Functions"
   ]
  },
  {
   "cell_type": "code",
   "execution_count": 32,
   "id": "b508d401",
   "metadata": {},
   "outputs": [],
   "source": [
    "def to_1D(series):\n",
    "    return pd.Series([x for _list in series for x in _list])"
   ]
  },
  {
   "cell_type": "code",
   "execution_count": 33,
   "id": "75d33cb8",
   "metadata": {},
   "outputs": [],
   "source": [
    "def boolean_df(item_lists, unique_items):\n",
    "    # Create empty dict\n",
    "    bool_dict = {}\n",
    "    \n",
    "    # Loop through all the tags\n",
    "    for i, item in enumerate(unique_items):\n",
    "        \n",
    "        # Apply boolean mask\n",
    "        bool_dict[item] = item_lists.apply(lambda x: item in x)\n",
    "            \n",
    "    # Return the results as a dataframe\n",
    "    return pd.DataFrame(bool_dict)"
   ]
  },
  {
   "cell_type": "markdown",
   "id": "14cb8f52",
   "metadata": {},
   "source": [
    "**Note:** I have never dealt with a column of type list before this exercise. These two functions were retrieved from this guide: https://towardsdatascience.com/dealing-with-list-values-in-pandas-dataframes-a177e534f173\n",
    "\n",
    "It was a very good learning experience for me!"
   ]
  },
  {
   "cell_type": "code",
   "execution_count": 34,
   "id": "ae00dac2",
   "metadata": {},
   "outputs": [
    {
     "data": {
      "text/html": [
       "<div>\n",
       "<style scoped>\n",
       "    .dataframe tbody tr th:only-of-type {\n",
       "        vertical-align: middle;\n",
       "    }\n",
       "\n",
       "    .dataframe tbody tr th {\n",
       "        vertical-align: top;\n",
       "    }\n",
       "\n",
       "    .dataframe thead th {\n",
       "        text-align: right;\n",
       "    }\n",
       "</style>\n",
       "<table border=\"1\" class=\"dataframe\">\n",
       "  <thead>\n",
       "    <tr style=\"text-align: right;\">\n",
       "      <th></th>\n",
       "      <th>title</th>\n",
       "      <th>G</th>\n",
       "      <th>PG</th>\n",
       "      <th>PG13</th>\n",
       "      <th>R</th>\n",
       "      <th>Action &amp; Adventure</th>\n",
       "      <th>Anime Features</th>\n",
       "      <th>Children &amp; Family Movies</th>\n",
       "      <th>Classic Movies</th>\n",
       "      <th>Comedies</th>\n",
       "      <th>...</th>\n",
       "      <th>Independent Movies</th>\n",
       "      <th>International Movies</th>\n",
       "      <th>LGBTQ Movies</th>\n",
       "      <th>Movies</th>\n",
       "      <th>Music &amp; Musicals</th>\n",
       "      <th>Romantic Movies</th>\n",
       "      <th>Sci-Fi &amp; Fantasy</th>\n",
       "      <th>Sports Movies</th>\n",
       "      <th>Stand-Up Comedy</th>\n",
       "      <th>Thrillers</th>\n",
       "    </tr>\n",
       "  </thead>\n",
       "  <tbody>\n",
       "    <tr>\n",
       "      <th>0</th>\n",
       "      <td>Dick Johnson Is Dead</td>\n",
       "      <td>0</td>\n",
       "      <td>0</td>\n",
       "      <td>1</td>\n",
       "      <td>0</td>\n",
       "      <td>0</td>\n",
       "      <td>0</td>\n",
       "      <td>0</td>\n",
       "      <td>0</td>\n",
       "      <td>0</td>\n",
       "      <td>...</td>\n",
       "      <td>0</td>\n",
       "      <td>0</td>\n",
       "      <td>0</td>\n",
       "      <td>0</td>\n",
       "      <td>0</td>\n",
       "      <td>0</td>\n",
       "      <td>0</td>\n",
       "      <td>0</td>\n",
       "      <td>0</td>\n",
       "      <td>0</td>\n",
       "    </tr>\n",
       "    <tr>\n",
       "      <th>6</th>\n",
       "      <td>My Little Pony: A New Generation</td>\n",
       "      <td>0</td>\n",
       "      <td>1</td>\n",
       "      <td>0</td>\n",
       "      <td>0</td>\n",
       "      <td>0</td>\n",
       "      <td>0</td>\n",
       "      <td>1</td>\n",
       "      <td>0</td>\n",
       "      <td>0</td>\n",
       "      <td>...</td>\n",
       "      <td>0</td>\n",
       "      <td>0</td>\n",
       "      <td>0</td>\n",
       "      <td>0</td>\n",
       "      <td>0</td>\n",
       "      <td>0</td>\n",
       "      <td>0</td>\n",
       "      <td>0</td>\n",
       "      <td>0</td>\n",
       "      <td>0</td>\n",
       "    </tr>\n",
       "    <tr>\n",
       "      <th>7</th>\n",
       "      <td>Sankofa</td>\n",
       "      <td>0</td>\n",
       "      <td>0</td>\n",
       "      <td>0</td>\n",
       "      <td>1</td>\n",
       "      <td>0</td>\n",
       "      <td>0</td>\n",
       "      <td>0</td>\n",
       "      <td>0</td>\n",
       "      <td>0</td>\n",
       "      <td>...</td>\n",
       "      <td>1</td>\n",
       "      <td>1</td>\n",
       "      <td>0</td>\n",
       "      <td>0</td>\n",
       "      <td>0</td>\n",
       "      <td>0</td>\n",
       "      <td>0</td>\n",
       "      <td>0</td>\n",
       "      <td>0</td>\n",
       "      <td>0</td>\n",
       "    </tr>\n",
       "    <tr>\n",
       "      <th>9</th>\n",
       "      <td>The Starling</td>\n",
       "      <td>0</td>\n",
       "      <td>0</td>\n",
       "      <td>1</td>\n",
       "      <td>0</td>\n",
       "      <td>0</td>\n",
       "      <td>0</td>\n",
       "      <td>0</td>\n",
       "      <td>0</td>\n",
       "      <td>1</td>\n",
       "      <td>...</td>\n",
       "      <td>0</td>\n",
       "      <td>0</td>\n",
       "      <td>0</td>\n",
       "      <td>0</td>\n",
       "      <td>0</td>\n",
       "      <td>0</td>\n",
       "      <td>0</td>\n",
       "      <td>0</td>\n",
       "      <td>0</td>\n",
       "      <td>0</td>\n",
       "    </tr>\n",
       "    <tr>\n",
       "      <th>12</th>\n",
       "      <td>Je Suis Karl</td>\n",
       "      <td>0</td>\n",
       "      <td>0</td>\n",
       "      <td>0</td>\n",
       "      <td>1</td>\n",
       "      <td>0</td>\n",
       "      <td>0</td>\n",
       "      <td>0</td>\n",
       "      <td>0</td>\n",
       "      <td>0</td>\n",
       "      <td>...</td>\n",
       "      <td>0</td>\n",
       "      <td>1</td>\n",
       "      <td>0</td>\n",
       "      <td>0</td>\n",
       "      <td>0</td>\n",
       "      <td>0</td>\n",
       "      <td>0</td>\n",
       "      <td>0</td>\n",
       "      <td>0</td>\n",
       "      <td>0</td>\n",
       "    </tr>\n",
       "  </tbody>\n",
       "</table>\n",
       "<p>5 rows × 25 columns</p>\n",
       "</div>"
      ],
      "text/plain": [
       "                               title  G  PG  PG13  R  Action & Adventure  \\\n",
       "0               Dick Johnson Is Dead  0   0     1  0                   0   \n",
       "6   My Little Pony: A New Generation  0   1     0  0                   0   \n",
       "7                            Sankofa  0   0     0  1                   0   \n",
       "9                       The Starling  0   0     1  0                   0   \n",
       "12                      Je Suis Karl  0   0     0  1                   0   \n",
       "\n",
       "    Anime Features  Children & Family Movies  Classic Movies  Comedies  ...  \\\n",
       "0                0                         0               0         0  ...   \n",
       "6                0                         1               0         0  ...   \n",
       "7                0                         0               0         0  ...   \n",
       "9                0                         0               0         1  ...   \n",
       "12               0                         0               0         0  ...   \n",
       "\n",
       "    Independent Movies  International Movies  LGBTQ Movies  Movies  \\\n",
       "0                    0                     0             0       0   \n",
       "6                    0                     0             0       0   \n",
       "7                    1                     1             0       0   \n",
       "9                    0                     0             0       0   \n",
       "12                   0                     1             0       0   \n",
       "\n",
       "    Music & Musicals  Romantic Movies  Sci-Fi & Fantasy  Sports Movies  \\\n",
       "0                  0                0                 0              0   \n",
       "6                  0                0                 0              0   \n",
       "7                  0                0                 0              0   \n",
       "9                  0                0                 0              0   \n",
       "12                 0                0                 0              0   \n",
       "\n",
       "    Stand-Up Comedy  Thrillers  \n",
       "0                 0          0  \n",
       "6                 0          0  \n",
       "7                 0          0  \n",
       "9                 0          0  \n",
       "12                0          0  \n",
       "\n",
       "[5 rows x 25 columns]"
      ]
     },
     "execution_count": 34,
     "metadata": {},
     "output_type": "execute_result"
    }
   ],
   "source": [
    "genres = sorted(to_1D(df_rec_system['listed_in']).value_counts().index)\n",
    "\n",
    "df_enc_genres = boolean_df(df_rec_system['listed_in'], genres).astype(int)\n",
    "\n",
    "df_rec_system = pd.merge(df_rec_system, df_enc_genres, how='inner', left_index=True, right_index=True)\n",
    "df_rec_system.drop(columns='listed_in', inplace = True)\n",
    "\n",
    "df_rec_system.head()"
   ]
  },
  {
   "cell_type": "markdown",
   "id": "15a9c44d",
   "metadata": {},
   "source": [
    "### Get data for KMeans Clustering"
   ]
  },
  {
   "cell_type": "code",
   "execution_count": 35,
   "id": "8c5c4f05",
   "metadata": {},
   "outputs": [],
   "source": [
    "X = df_rec_system.iloc[:,1:]    # the name is not an important feature for clustering"
   ]
  },
  {
   "cell_type": "markdown",
   "id": "22050790",
   "metadata": {},
   "source": [
    "### Choosing the number of clusters"
   ]
  },
  {
   "cell_type": "code",
   "execution_count": 36,
   "id": "d66a058f",
   "metadata": {},
   "outputs": [
    {
     "data": {
      "image/png": "[encoded data removed]",
      "text/plain": [
       "<Figure size 576x360 with 1 Axes>"
      ]
     },
     "metadata": {
      "needs_background": "light"
     },
     "output_type": "display_data"
    }
   ],
   "source": [
    "range_clusters = range(1, 25)\n",
    "inertia_values = []\n",
    "\n",
    "for i in range_clusters:\n",
    "    km = KMeans(n_clusters=i, init='random')\n",
    "    km.fit(X)\n",
    "    inertia_values.append(km.inertia_)\n",
    "\n",
    "fig, ax = plt.subplots(1, 1, figsize=(8, 5))\n",
    "\n",
    "ax.plot(range_clusters, inertia_values, marker='o')\n",
    "ax.set_xlabel('Number of clusters')\n",
    "ax.set_ylabel('Inertia')\n",
    "ax.set_title('Elbow Method', fontsize=20)\n",
    "\n",
    "plt.show()"
   ]
  },
  {
   "cell_type": "markdown",
   "id": "205059d1",
   "metadata": {},
   "source": [
    "I'll use now the *kneed* library to find the knee of the curve automatically."
   ]
  },
  {
   "cell_type": "code",
   "execution_count": 37,
   "id": "d23766c7",
   "metadata": {},
   "outputs": [
    {
     "name": "stdout",
     "output_type": "stream",
     "text": [
      "Number of cluster to use: 8\n"
     ]
    }
   ],
   "source": [
    "kl = KneeLocator(range_clusters, inertia_values, curve='convex', direction='decreasing')\n",
    "n_clus = kl.elbow\n",
    "print('Number of cluster to use:',n_clus)"
   ]
  },
  {
   "cell_type": "markdown",
   "id": "143349b6",
   "metadata": {},
   "source": [
    "### K-Means Clustering"
   ]
  },
  {
   "cell_type": "code",
   "execution_count": 38,
   "id": "866ec72b",
   "metadata": {},
   "outputs": [],
   "source": [
    "km = KMeans(n_clusters=n_clus, init='random')\n",
    "\n",
    "y_km = km.fit_predict(X)"
   ]
  },
  {
   "cell_type": "code",
   "execution_count": 39,
   "id": "74db3207",
   "metadata": {},
   "outputs": [],
   "source": [
    "# Add the cluster information to the DataFrame\n",
    "df_rec_system['cluster'] = y_km"
   ]
  },
  {
   "cell_type": "markdown",
   "id": "74ae988d",
   "metadata": {},
   "source": [
    "### Get a recomendation!"
   ]
  },
  {
   "cell_type": "markdown",
   "id": "d5afd5e6",
   "metadata": {},
   "source": [
    "Finally, let's get a recomendation from this simple system! :D"
   ]
  },
  {
   "cell_type": "code",
   "execution_count": 40,
   "id": "966acaa6",
   "metadata": {},
   "outputs": [],
   "source": [
    "# Choose a title you liked and how many recomendations you want\n",
    "title_name = random.choice(df_rec_system['title'].to_numpy())\n",
    "k = 3"
   ]
  },
  {
   "cell_type": "code",
   "execution_count": 41,
   "id": "f3bc3f19",
   "metadata": {},
   "outputs": [],
   "source": [
    "# Get the title's cluster\n",
    "cluster = df_rec_system.loc[df_rec_system['title'] == title_name, 'cluster'].values[0]\n",
    "\n",
    "# Get all the titles from the selected cluster\n",
    "# Assert: DO NOT show R rated content to non-adults!\n",
    "if df_rec_system.loc[df_rec_system['title'] == title_name, 'R'].values[0] == 1:\n",
    "    recomendations_pool = list(df_rec_system.loc[df_rec_system['cluster'] == cluster, 'title'])\n",
    "else:\n",
    "    recomendations_pool = list(df_rec_system.loc[(df_rec_system['cluster'] == cluster) & (df_rec_system['R'] == 0), 'title'])\n",
    "    \n",
    "# Remove the chosen title\n",
    "recomendations_pool.remove(title_name)\n",
    "\n",
    "# Now it would be nice to be able to order them by rating... /shrug\n",
    "\n",
    "recomendations = random.choices(recomendations_pool, k=k)"
   ]
  },
  {
   "cell_type": "code",
   "execution_count": 42,
   "id": "f0a5f898",
   "metadata": {},
   "outputs": [
    {
     "name": "stdout",
     "output_type": "stream",
     "text": [
      "If you liked \" Chicken Kokkachi \" then you should try these titles:\n",
      "\n",
      "\n",
      "- Hadi İnşallah -> A young woman recovering poorly from a bad romance gets a new lease on life after encountering a handsome man during a job interview.\n",
      "\n",
      "\n",
      "- Tremors: Shrieker Island -> When massive mutant creatures infiltrate an island nature preserve, scientists recruit a legendary monster hunter to battle the beasts.\n",
      "\n",
      "\n",
      "- Jim Gaffigan: Cinco -> America's king of clean comedy delivers wickedly funny jokes in his fifth hour-long special.\n"
     ]
    }
   ],
   "source": [
    "print('If you liked \\\"', title_name,'\\\" then you should try these titles:' )\n",
    "\n",
    "for i in recomendations:\n",
    "    description = df_movies.loc[df_movies['title'] == i, 'description'].values[0]\n",
    "    print('\\n')\n",
    "    print('-',i,'->',description)"
   ]
  }
 ],
 "metadata": {
  "kernelspec": {
   "display_name": "Python 3 (ipykernel)",
   "language": "python",
   "name": "python3"
  },
  "language_info": {
   "codemirror_mode": {
    "name": "ipython",
    "version": 3
   },
   "file_extension": ".py",
   "mimetype": "text/x-python",
   "name": "python",
   "nbconvert_exporter": "python",
   "pygments_lexer": "ipython3",
   "version": "3.8.12"
  }
 },
 "nbformat": 4,
 "nbformat_minor": 5
}
